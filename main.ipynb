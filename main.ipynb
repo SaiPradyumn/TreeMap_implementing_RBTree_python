{
 "cells": [
  {
   "cell_type": "code",
   "execution_count": 134,
   "metadata": {},
   "outputs": [],
   "source": [
    "from dataclasses import dataclass\n",
    "from typing import  Any\n",
    "from enum import Enum\n"
   ]
  },
  {
   "cell_type": "code",
   "execution_count": 135,
   "metadata": {},
   "outputs": [],
   "source": [
    "\n",
    "class Color(Enum):\n",
    "    RED = True\n",
    "    BLACK = False"
   ]
  },
  {
   "cell_type": "code",
   "execution_count": 136,
   "metadata": {},
   "outputs": [],
   "source": [
    "\n",
    "@dataclass\n",
    "class Node:\n",
    "    key: Any\n",
    "    val: Any\n",
    "    color: Color\n",
    "    parent: object\n",
    "    left: object\n",
    "    right: object\n",
    "\n",
    "    def grand_parent(self):\n",
    "        if self.parent is not None:\n",
    "            return self.parent.parent\n",
    "        else:\n",
    "            return None\n",
    "    \n",
    "    def uncle(self):\n",
    "        gp = self.grand_parent()\n",
    "        if gp is None:\n",
    "            return None\n",
    "        if self.parent == gp.left:\n",
    "            return gp.right\n",
    "        else:\n",
    "            return gp.left\n",
    "\n",
    "\n"
   ]
  },
  {
   "cell_type": "code",
   "execution_count": 144,
   "metadata": {},
   "outputs": [],
   "source": [
    "class rb_tree:\n",
    "    root: object\n",
    "    \n",
    "    # Temporary constructor\n",
    "    def __init__(self, root) -> None:\n",
    "        self.root = root\n",
    "\n",
    "    def insert(self, key, val):\n",
    "        # Create a red node with two black leaves\n",
    "        node = Node(key, val, Color.BLACK, None, None, None)\n",
    "        node.left = Node(None, None, Color.BLACK, node, None, None)\n",
    "        Node.right = Node(None, None, Color.BLACK, node, None, None)\n",
    "        # Insert the node at a leaf position\n",
    "        position_node = self.search_leaf(self.root, key)\n",
    "        print(position_node.parent.key)\n",
    "        # Since we don't know if the node we got is the left or right child, we compare\n",
    "        if position_node.parent.left == position_node:\n",
    "            position_node.parent.left = node\n",
    "        else:\n",
    "            position_node.parent.right = node\n",
    "        \n",
    "\n",
    "        # Balancing the tree after insert operation\n",
    "        # Case 1\n",
    "        if position_node.parent is None:\n",
    "            position_node.color = Color.BLACK\n",
    "            \n",
    "        # Case 2\n",
    "        elif position_node.parent.color == Color.BLACK:\n",
    "            pass\n",
    "        \n",
    "    # Reccursive function to insert a node like a binary search tree\n",
    "    def search_leaf(self, node, search_key) -> Node:\n",
    "        # Since in rb trees we also insert None nodes after each node, we need to\n",
    "        # check if key of the node is none\n",
    "        if node.key is None:\n",
    "            return node\n",
    "\n",
    "        if node.key < search_key:\n",
    "            return self.search_leaf(node.right, search_key)\n",
    "        \n",
    "        return self.search_leaf(node.left, search_key)\n"
   ]
  },
  {
   "cell_type": "code",
   "execution_count": 147,
   "metadata": {},
   "outputs": [
    {
     "name": "stdout",
     "output_type": "stream",
     "text": [
      "1\n",
      "5\n"
     ]
    }
   ],
   "source": [
    "# A valid Red-Black Tree\n",
    "# Children of right node\n",
    "right_l = Node(3, None, Color.RED, None, None, None)\n",
    "right_l.left = Node(None, None, Color.BLACK, right_l, None, None)\n",
    "right_l.right = Node(None, None, Color.BLACK, right_l, None, None)\n",
    "\n",
    "right_r = Node(5, None, Color.RED, None, None, None)\n",
    "right_r.left = Node(None, None, Color.BLACK, right_r, None, None)\n",
    "right_r.right = Node(None, None, Color.BLACK, right_r, None, None)\n",
    "# Root Node\n",
    "root = Node(2, None, Color.BLACK, None, None, None)\n",
    "\n",
    "right = Node(4, None, Color.BLACK, root, right_l, right_r)\n",
    "left = Node(1, None, Color.BLACK, root, None, None)\n",
    "# Children of root\n",
    "root.left = left\n",
    "root.right = right\n",
    "\n",
    "right_r.parent = right\n",
    "right_l.parent = left\n",
    "\n",
    "left.left= Node(None, None, Color.BLACK, left, None, None)\n",
    "left.right = Node(None, None, Color.BLACK, left, None, None)\n",
    "\n",
    "rb = rb_tree(root)\n",
    "rb.insert(1, 2)\n",
    "rb.insert(10,2)\n"
   ]
  }
 ],
 "metadata": {
  "kernelspec": {
   "display_name": "Python 3.8.1 64-bit",
   "language": "python",
   "name": "python3"
  },
  "language_info": {
   "codemirror_mode": {
    "name": "ipython",
    "version": 3
   },
   "file_extension": ".py",
   "mimetype": "text/x-python",
   "name": "python",
   "nbconvert_exporter": "python",
   "pygments_lexer": "ipython3",
   "version": "3.8.1"
  },
  "orig_nbformat": 4,
  "vscode": {
   "interpreter": {
    "hash": "4028a5515a1d930fbba3ed84a88654d6ba307da7eda608d7a6db2b3bc0ee0a8f"
   }
  }
 },
 "nbformat": 4,
 "nbformat_minor": 2
}
