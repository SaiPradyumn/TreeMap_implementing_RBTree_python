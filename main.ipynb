{
 "cells": [
  {
   "cell_type": "code",
   "execution_count": 89,
   "metadata": {},
   "outputs": [],
   "source": [
    "from dataclasses import dataclass\n",
    "from typing import ClassVar, Any\n",
    "\n",
    "\n",
    "@dataclass\n",
    "class Node:\n",
    "    key: Any\n",
    "    color: bool\n",
    "    parent: object\n",
    "    left: object\n",
    "    right: object\n",
    "\n",
    "    def grand_parent(self):\n",
    "        if(self.parent != None):\n",
    "            return self.parent.parent\n",
    "        else:\n",
    "            return None\n",
    "    \n",
    "    def uncle(self):\n",
    "        gp = self.grand_parent()\n",
    "        if gp is None:\n",
    "            return None\n",
    "        if self.parent == gp.left:\n",
    "            return gp.right\n",
    "        else:\n",
    "            return gp.left\n",
    "\n",
    "\n"
   ]
  },
  {
   "cell_type": "code",
   "execution_count": 92,
   "metadata": {},
   "outputs": [
    {
     "name": "stdout",
     "output_type": "stream",
     "text": [
      "2\n"
     ]
    }
   ],
   "source": [
    "right_l = Node(4, False, None, None, None)\n",
    "right_r = Node(5, False, None, None, None)\n",
    "root = Node(1, False, None, None, None)\n",
    "right = Node(2, False, root, right_l, right_r)\n",
    "left = Node(3, False, root, None, None)\n",
    "root.left = left\n",
    "root.right = right\n",
    "right_r.parent = right\n",
    "right_l.parent = left\n",
    "\n",
    "print(right_l.uncle().key)\n"
   ]
  }
 ],
 "metadata": {
  "kernelspec": {
   "display_name": "Python 3.8.1 64-bit",
   "language": "python",
   "name": "python3"
  },
  "language_info": {
   "codemirror_mode": {
    "name": "ipython",
    "version": 3
   },
   "file_extension": ".py",
   "mimetype": "text/x-python",
   "name": "python",
   "nbconvert_exporter": "python",
   "pygments_lexer": "ipython3",
   "version": "3.8.1"
  },
  "orig_nbformat": 4,
  "vscode": {
   "interpreter": {
    "hash": "4028a5515a1d930fbba3ed84a88654d6ba307da7eda608d7a6db2b3bc0ee0a8f"
   }
  }
 },
 "nbformat": 4,
 "nbformat_minor": 2
}
