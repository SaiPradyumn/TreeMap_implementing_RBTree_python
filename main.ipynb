{
  "cells": [
    {
      "cell_type": "code",
      "execution_count": 1,
      "metadata": {
        "id": "gJhhYC2WHbnw"
      },
      "outputs": [],
      "source": [
        "from dataclasses import dataclass\n",
        "from typing import  Any\n",
        "from enum import Enum\n",
        "\n",
        "import networkx as nx\n",
        "import matplotlib.pyplot as plt\n",
        "from networkx.drawing.nx_pydot import graphviz_layout\n",
        "import warnings"
      ]
    },
    {
      "cell_type": "code",
      "execution_count": 2,
      "metadata": {
        "id": "0A7lfoDQHbny"
      },
      "outputs": [],
      "source": [
        "class Color(Enum):\n",
        "    RED = True\n",
        "    BLACK = False"
      ]
    },
    {
      "cell_type": "code",
      "execution_count": 3,
      "metadata": {
        "id": "wkLl3AR6Hbny"
      },
      "outputs": [],
      "source": [
        "@dataclass\n",
        "class Node:\n",
        "    key: Any\n",
        "    val: Any\n",
        "    color: Color\n",
        "    parent: object\n",
        "    left: object\n",
        "    right: object\n",
        "\n",
        "    def __str__(self) -> str:\n",
        "        return f'\\t\\tKey: {self.key}; Color: {self.color}; Parent:{self.parent.key if self.parent is not None else self.parent}\\n Left:{self.left.key}\\t\\t\\t Right:{self.right.key}'\n",
        "\n",
        "    def grand_parent(self):\n",
        "        if self.parent is not None:\n",
        "            return self.parent.parent\n",
        "        else:\n",
        "            return None\n",
        "\n",
        "    def uncle(self):\n",
        "        gp = self.grand_parent()\n",
        "        if gp is None:\n",
        "            return None\n",
        "        if self.parent is gp.left:\n",
        "            return gp.right\n",
        "        else:\n",
        "            return gp.left\n",
        "        \n",
        "    def sibling(self):\n",
        "        if self.parent is None:\n",
        "            return None\n",
        "        if self is self.parent.left:\n",
        "            return self.parent.right\n",
        "        else:\n",
        "            return self.parent.left"
      ]
    },
    {
      "cell_type": "code",
      "execution_count": 113,
      "metadata": {
        "id": "A8mOxYwDHbnz"
      },
      "outputs": [],
      "source": [
        "class rb_tree:\n",
        "    root: object\n",
        "\n",
        "    # Temporary constructor\n",
        "    def __init__(self, root=None) -> None:\n",
        "        self.root = root\n",
        "\n",
        "    # def rotate_left(self, node):\n",
        "    #     # We are given the parent of the new node\n",
        "    #     gp = node.parent\n",
        "    #     # We change the  child of grand parent to the new node\n",
        "    #     if node is gp.left:\n",
        "    #         gp.left = node.right\n",
        "    #         gp.left.parent = gp\n",
        "    #     else:\n",
        "    #         gp.right = node.right\n",
        "    #         gp.right.parent = gp\n",
        "    #\n",
        "    #     # We will change the value of the right child of the parent to the left child of the new node\n",
        "    #     temp_right_node = node.right\n",
        "    #     node.right = node.right.left\n",
        "    #     node.right.parent = node\n",
        "    #\n",
        "    #     temp_right_node.left = node\n",
        "    #     node.parent = temp_right_node\n",
        "\n",
        "    def rotate_left(self, node):\n",
        "        R_child = node.right\n",
        "        node.right = R_child.left\n",
        "        if R_child.left is not None :\n",
        "            R_child.left.parent = node\n",
        "        R_child.parent = node.parent\n",
        "        if node.parent is None :\n",
        "            self.root = R_child\n",
        "        elif node is node.parent.left :\n",
        "            node.parent.left = R_child\n",
        "        else :\n",
        "            node.parent.right = R_child\n",
        "        R_child.left = node\n",
        "        node.parent = R_child\n",
        "\n",
        "    def rotate_right(self, node):\n",
        "        L_child = node.left\n",
        "        node.left = L_child.right\n",
        "        if L_child.right is not None :\n",
        "            L_child.right.parent = node\n",
        "        L_child.parent = node.parent\n",
        "        if node.parent is None :\n",
        "            self.root = L_child\n",
        "        elif node is node.parent.right :\n",
        "            node.parent.right = L_child\n",
        "        else :\n",
        "            node.parent.left = L_child\n",
        "        L_child.right = node\n",
        "        node.parent = L_child\n",
        "\n",
        "    def insert(self, key, val):\n",
        "        # Create a red node with two black leaves\n",
        "        node = Node(key, val, Color.RED, None, None, None)\n",
        "        node.left = Node(None, None, Color.BLACK, node, None, None)\n",
        "        node.right = Node(None, None, Color.BLACK, node, None, None)\n",
        "        # Insert the node at a leaf position\n",
        "        if self.root is None:\n",
        "            position_node = node\n",
        "            self.root = position_node\n",
        "        else:\n",
        "            position_node = self.search_tree(self.root, key)\n",
        "            # Since we don't know if the node we got is the left or right child, we compare\n",
        "            if position_node.key == node.key:\n",
        "                position_node.value = val\n",
        "                warning_message = \"Duplicate Key: {key} found. Value updated\".format(key=node.key)\n",
        "                warnings.warn(warning_message, category=SyntaxWarning)\n",
        "                return\n",
        "            elif position_node.parent.left is position_node:\n",
        "                position_node.parent.left = node\n",
        "            else:\n",
        "                position_node.parent.right = node\n",
        "            node.parent = position_node.parent\n",
        "        # Case 1\n",
        "        if node.parent is None :\n",
        "            node.color = Color.BLACK\n",
        "            return\n",
        "\n",
        "        # Case 2\n",
        "        if node.grand_parent() is None :\n",
        "            return\n",
        "\n",
        "        # Balancing the tree after insert operation\n",
        "        self.fix(node)\n",
        "        \n",
        "\n",
        "    # Reccursive function to insert a node like a binary search tree\n",
        "    def search_tree(self, node, search_key) -> Node:\n",
        "        # Since in rb trees we also insert None nodes after each node, we need to\n",
        "        # check if key of the node is none or if a duplicate key is present\n",
        "        if node.key is None or node.key == search_key:\n",
        "            return node\n",
        "\n",
        "        if node.key < search_key:\n",
        "            return self.search_tree(node.right, search_key)\n",
        "        \n",
        "\n",
        "        return self.search_tree(node.left, search_key)\n",
        "\n",
        "    def fix(self, node):\n",
        "        # Case 2 condition\n",
        "        while node.parent.color == Color.RED:\n",
        "            if node.parent is node.grand_parent().right:\n",
        "                uncle = node.uncle()\n",
        "                # Case 3\n",
        "                if uncle.color == Color.RED:\n",
        "                    uncle.color = Color.BLACK\n",
        "                    node.parent.color = Color.BLACK\n",
        "                    node.grand_parent().color = Color.RED\n",
        "                    node = node.grand_parent()\n",
        "                else:\n",
        "                    # Case 4 pt 2\n",
        "                    if node is node.parent.left:\n",
        "                        node = node.parent\n",
        "                        self.rotate_right(node)\n",
        "                    # Case 5 pt 2\n",
        "                    else:\n",
        "                        node.parent.color = Color.BLACK\n",
        "                        node.grand_parent().color = Color.RED\n",
        "                        self.rotate_left(node.grand_parent())\n",
        "            else:\n",
        "                uncle = node.uncle()\n",
        "                # Case 3\n",
        "                if uncle.color == Color.RED:\n",
        "                    uncle.color = Color.BLACK\n",
        "                    node.parent.color = Color.BLACK\n",
        "                    node.grand_parent().color = Color.RED\n",
        "                    node = node.grand_parent()\n",
        "                else:\n",
        "                    # Case 4 pt 1\n",
        "                    if node is node.parent.right:\n",
        "                        node = node.parent\n",
        "                        self.rotate_left(node)\n",
        "                    # Case 5 pt 1\n",
        "                    else:\n",
        "                        node.parent.color = Color.BLACK\n",
        "                        node.grand_parent().color = Color.RED\n",
        "                        self.rotate_right(node.grand_parent())\n",
        "            if node == self.root:\n",
        "                break\n",
        "        self.root.color = Color.BLACK\n",
        "                    \n",
        "\n",
        "    def replace_node(self,node, child):\n",
        "        # Replace nodes in the child;s position\n",
        "        if child.left is not None and child.left.key is not None:\n",
        "            if child is child.parent.left:\n",
        "                child.parent.left = child.left\n",
        "            else:\n",
        "                child.parent.right = child.left\n",
        "            child.left.parent = child.parent\n",
        "\n",
        "        elif child.right.key is not None and child.right.key is not None:\n",
        "            if child is child.parent.left:\n",
        "                child.parent.left = child.right\n",
        "            else:\n",
        "                child.parent.right = child.right\n",
        "            child.right.parent = child.parent\n",
        "        else:\n",
        "            if child is child.parent.left:\n",
        "                child.parent.left = child.left\n",
        "            elif child is child.parent.right:\n",
        "                child.parent.right = child.left\n",
        "            del child.right\n",
        "        # Replace nodes in the parent's position\n",
        "        child.parent = node.parent\n",
        "        child.left = node.left\n",
        "        child.left.parent = child\n",
        "        child.right = node.right\n",
        "        child.right.parent = child\n",
        "        \n",
        "        if node.parent is not None:\n",
        "            if node is node.parent.left:\n",
        "                node.parent.left = child\n",
        "            else:\n",
        "                node.parent.right = child\n",
        "        else:\n",
        "            self.root = child\n",
        "        del node\n",
        "\n",
        "\n",
        "    def delete_child(self, n):\n",
        "        # Deleting leaf node\n",
        "        if n.right.key is None and n.left.key is None:\n",
        "            if n.parent is None:\n",
        "                self.root = None\n",
        "                del n.left\n",
        "            elif n is n.parent.right:\n",
        "                n.parent.right = n.left\n",
        "            else:\n",
        "                n.parent.left = n.left\n",
        "            del n.right\n",
        "        else:\n",
        "            if n.right.key is None:\n",
        "                child = n.left\n",
        "            elif n.left.key is None:\n",
        "                child = n.right\n",
        "            else:\n",
        "                child = n.left\n",
        "                while(child.right.key is not None):\n",
        "                    child = child.right\n",
        "        \n",
        "        self.replace_node(n,child)\n",
        "        # if(n.color == Color.BLACK):\n",
        "        #     if(child.color == Color.RED):\n",
        "        #         child.color = Color.BLACK\n",
        "        #     else:\n",
        "        #         del_case1(child)\n",
        "            \n",
        "        \n",
        "\n",
        "    def delete(self, key):\n",
        "        node = self.search_tree(self.root, key)\n",
        "        if node.key is None:\n",
        "            raise KeyError('Invalid Key')\n",
        "        else:\n",
        "            self.delete_child(node)\n",
        "            \n",
        "\n",
        "\n",
        "\n"
      ]
    },
    {
      "cell_type": "code",
      "execution_count": 114,
      "metadata": {
        "colab": {
          "base_uri": "https://localhost:8080/"
        },
        "id": "sYTW9egyHbn0",
        "outputId": "851e1c44-2e3c-480d-a6a4-46e752e2b478",
        "pycharm": {
          "is_executing": true
        }
      },
      "outputs": [],
      "source": [
        "# A valid Red-Black Tree\n",
        "# Children of right node\n",
        "\n",
        "# Node(key, val, color, parent, left, right)\n",
        "right_l = Node(3, None, Color.RED, None, None, None)\n",
        "right_l.left = Node(None, None, Color.BLACK, right_l, None, None)\n",
        "right_l.right = Node(None, None, Color.BLACK, right_l, None, None)\n",
        "\n",
        "right_r = Node(5, None, Color.RED, None, None, None)\n",
        "right_r.left = Node(None, None, Color.BLACK, right_r, None, None)\n",
        "right_r.right = Node(None, None, Color.BLACK, right_r, None, None)\n",
        "# Root Node\n",
        "root = Node(2, None, Color.BLACK, None, None, None)\n",
        "\n",
        "right = Node(4, None, Color.BLACK, root, right_l, right_r)\n",
        "left = Node(1, None, Color.BLACK, root, None, None)\n",
        "# Children of root\n",
        "root.left = left\n",
        "root.right = right\n",
        "\n",
        "right_r.parent = right\n",
        "right_l.parent = right\n",
        "\n",
        "left.left= Node(None, None, Color.BLACK, left, None, None)\n",
        "left.right = Node(None, None, Color.BLACK, left, None, None)\n",
        "\n",
        "# Pre constructed tree example\n",
        "rb = rb_tree(root)\n",
        "\n"
      ]
    },
    {
      "cell_type": "code",
      "execution_count": 115,
      "metadata": {
        "id": "n5uFAfBgH4Nl"
      },
      "outputs": [],
      "source": [
        "def create_graph(node,g,colors):\n",
        "  if(node.left.key != None):\n",
        "    g.add_edge(node.key,node.left.key)\n",
        "    colors.append(str(node.left.color)[6:])\n",
        "    create_graph(node.left,g,colors)\n",
        "  if(node.right.key != None):\n",
        "    g.add_edge(node.key,node.right.key)\n",
        "    colors.append(str(node.right.color)[6:])\n",
        "    create_graph(node.right,g,colors)"
      ]
    },
    {
      "cell_type": "code",
      "execution_count": 116,
      "metadata": {
        "id": "7F3R0nq2H640"
      },
      "outputs": [],
      "source": [
        "def display_graph(root):\n",
        "  g = nx.Graph()\n",
        "  colors = []\n",
        "  colors.append(str(root.color)[6:])\n",
        "  create_graph(root,g,colors)\n",
        "  pos = graphviz_layout(g, prog=\"dot\")\n",
        "  nx.draw(g, pos,with_labels=True, node_color=colors, font_color=\"white\")\n",
        "  plt.show()"
      ]
    },
    {
      "cell_type": "code",
      "execution_count": 117,
      "metadata": {
        "colab": {
          "base_uri": "https://localhost:8080/",
          "height": 319
        },
        "id": "m06powXXH8X8",
        "outputId": "6d0d3c34-3519-4da9-c738-8689ba7f7031"
      },
      "outputs": [],
      "source": [
        "# display_graph(rb.root)"
      ]
    },
    {
      "cell_type": "code",
      "execution_count": 118,
      "metadata": {
        "id": "d-hfbF2jIng8"
      },
      "outputs": [
        {
          "name": "stderr",
          "output_type": "stream",
          "text": [
            "C:\\Users\\ogbon\\AppData\\Local\\Temp\\ipykernel_29020\\983946498.py:72: SyntaxWarning: Duplicate Key: 5 found. Value updated\n",
            "  warnings.warn(warning_message, category=SyntaxWarning)\n"
          ]
        },
        {
          "data": {
            "image/png": "[encoded data removed]",
            "text/plain": [
              "<Figure size 640x480 with 1 Axes>"
            ]
          },
          "metadata": {},
          "output_type": "display_data"
        }
      ],
      "source": [
        "rb = rb_tree()\n",
        "for i in range(5,10):\n",
        "    rb.insert(i,1)\n",
        "    # display_graph(rb.root)\n",
        "for i in range(5,0, -1):\n",
        "    rb.insert(i,1)\n",
        "    # display_graph(rb.root)\n",
        "display_graph(rb.root)"
      ]
    },
    {
      "cell_type": "code",
      "execution_count": 119,
      "metadata": {},
      "outputs": [
        {
          "data": {
            "image/png": "[encoded data removed]",
            "text/plain": [
              "<Figure size 640x480 with 1 Axes>"
            ]
          },
          "metadata": {},
          "output_type": "display_data"
        }
      ],
      "source": [
        "rb.delete(6)\n",
        "display_graph(rb.root)"
      ]
    }
  ],
  "metadata": {
    "colab": {
      "provenance": []
    },
    "kernelspec": {
      "display_name": "Python 3.8.1 64-bit",
      "language": "python",
      "name": "python3"
    },
    "language_info": {
      "codemirror_mode": {
        "name": "ipython",
        "version": 3
      },
      "file_extension": ".py",
      "mimetype": "text/x-python",
      "name": "python",
      "nbconvert_exporter": "python",
      "pygments_lexer": "ipython3",
      "version": "3.8.1"
    },
    "orig_nbformat": 4,
    "vscode": {
      "interpreter": {
        "hash": "4028a5515a1d930fbba3ed84a88654d6ba307da7eda608d7a6db2b3bc0ee0a8f"
      }
    }
  },
  "nbformat": 4,
  "nbformat_minor": 0
}
