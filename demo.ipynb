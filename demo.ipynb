{
  "cells": [
    {
      "attachments": {},
      "cell_type": "markdown",
      "metadata": {},
      "source": [
        "## How to use TreeMap"
      ]
    },
    {
      "cell_type": "code",
      "execution_count": 670,
      "metadata": {},
      "outputs": [],
      "source": [
        "# Import File\n",
        "from TreeMap.TreeMap import TreeMap"
      ]
    },
    {
      "attachments": {},
      "cell_type": "markdown",
      "metadata": {},
      "source": [
        "### Constructors\n",
        "1. Empty Constructor\n",
        "2. Pass a Key-Value pair\n",
        "3. Pass a Dictionary"
      ]
    },
    {
      "cell_type": "code",
      "execution_count": 671,
      "metadata": {},
      "outputs": [
        {
          "data": {
            "text/plain": [
              "{}"
            ]
          },
          "execution_count": 671,
          "metadata": {},
          "output_type": "execute_result"
        }
      ],
      "source": [
        "rb = TreeMap()\n",
        "rb"
      ]
    },
    {
      "cell_type": "code",
      "execution_count": 672,
      "metadata": {},
      "outputs": [
        {
          "data": {
            "text/plain": [
              "{1: 5}"
            ]
          },
          "execution_count": 672,
          "metadata": {},
          "output_type": "execute_result"
        }
      ],
      "source": [
        "rb = TreeMap(1, 5)\n",
        "rb"
      ]
    },
    {
      "cell_type": "code",
      "execution_count": 673,
      "metadata": {},
      "outputs": [
        {
          "data": {
            "text/plain": [
              "{1: One, 2: 2}"
            ]
          },
          "execution_count": 673,
          "metadata": {},
          "output_type": "execute_result"
        }
      ],
      "source": [
        "d = {1:\"One\", 2: 2}\n",
        "rb = TreeMap(d)\n",
        "rb"
      ]
    },
    {
      "attachments": {},
      "cell_type": "markdown",
      "metadata": {},
      "source": [
        "### Insertion\n",
        "1. put(key, value)\n",
        "2. put_all(dict)"
      ]
    },
    {
      "cell_type": "code",
      "execution_count": 674,
      "metadata": {},
      "outputs": [
        {
          "data": {
            "text/plain": [
              "{1: One, 2: 2, 3: Three}"
            ]
          },
          "execution_count": 674,
          "metadata": {},
          "output_type": "execute_result"
        }
      ],
      "source": [
        "rb.put(3, 'Three')\n",
        "rb"
      ]
    },
    {
      "cell_type": "code",
      "execution_count": 675,
      "metadata": {},
      "outputs": [
        {
          "data": {
            "text/plain": [
              "{1: One, 2: 2, 3: Three, 4: 4.2, 5: Five}"
            ]
          },
          "execution_count": 675,
          "metadata": {},
          "output_type": "execute_result"
        }
      ],
      "source": [
        "d = {4:4.2, 5:'Five'}\n",
        "rb.put_all(d)\n",
        "rb"
      ]
    },
    {
      "attachments": {},
      "cell_type": "markdown",
      "metadata": {},
      "source": [
        "Since duplicates are not allowed, if we try to insert a duplicate key, the value in it will be updated"
      ]
    },
    {
      "cell_type": "code",
      "execution_count": 676,
      "metadata": {},
      "outputs": [
        {
          "data": {
            "text/plain": [
              "{1: One, 2: 2, 3: Three, 4: 4.2, 5: 5}"
            ]
          },
          "execution_count": 676,
          "metadata": {},
          "output_type": "execute_result"
        }
      ],
      "source": [
        "rb.put(5,5)\n",
        "rb"
      ]
    },
    {
      "attachments": {},
      "cell_type": "markdown",
      "metadata": {},
      "source": [
        "### Retreival\n",
        "1. get(key) -> Returns the value with that key if found otherwiser returns None\n",
        "2. get_keys() -> Returns a list of keys\n",
        "2. get_values() -> Returns a list of values"
      ]
    },
    {
      "cell_type": "code",
      "execution_count": 677,
      "metadata": {},
      "outputs": [
        {
          "data": {
            "text/plain": [
              "'One'"
            ]
          },
          "execution_count": 677,
          "metadata": {},
          "output_type": "execute_result"
        }
      ],
      "source": [
        "rb.get(1)"
      ]
    },
    {
      "cell_type": "code",
      "execution_count": 678,
      "metadata": {},
      "outputs": [
        {
          "data": {
            "text/plain": [
              "[1, 2, 3, 4, 5]"
            ]
          },
          "execution_count": 678,
          "metadata": {},
          "output_type": "execute_result"
        }
      ],
      "source": [
        "rb.get_keys()"
      ]
    },
    {
      "cell_type": "code",
      "execution_count": 679,
      "metadata": {},
      "outputs": [
        {
          "data": {
            "text/plain": [
              "['One', 2, 'Three', 4.2, 5]"
            ]
          },
          "execution_count": 679,
          "metadata": {},
          "output_type": "execute_result"
        }
      ],
      "source": [
        "rb.get_values()"
      ]
    },
    {
      "attachments": {},
      "cell_type": "markdown",
      "metadata": {},
      "source": [
        "### Deletion \n",
        "1. remove(key) -> If key is present, will delete it, else will raise key error, returns None\n",
        "2. clear()"
      ]
    },
    {
      "cell_type": "code",
      "execution_count": 680,
      "metadata": {},
      "outputs": [
        {
          "data": {
            "text/plain": [
              "{2: 2, 3: Three, 4: 4.2, 5: 5}"
            ]
          },
          "execution_count": 680,
          "metadata": {},
          "output_type": "execute_result"
        }
      ],
      "source": [
        "rb.remove(1)\n",
        "rb"
      ]
    },
    {
      "cell_type": "code",
      "execution_count": 681,
      "metadata": {},
      "outputs": [
        {
          "data": {
            "text/plain": [
              "{}"
            ]
          },
          "execution_count": 681,
          "metadata": {},
          "output_type": "execute_result"
        }
      ],
      "source": [
        "rb.clear()\n",
        "rb"
      ]
    },
    {
      "cell_type": "code",
      "execution_count": 682,
      "metadata": {},
      "outputs": [
        {
          "data": {
            "text/plain": [
              "{1: One, 2: 2, 3: 3, 4: 4.2, 5: Five}"
            ]
          },
          "execution_count": 682,
          "metadata": {},
          "output_type": "execute_result"
        }
      ],
      "source": [
        "d = {1:\"One\", 2: 2, 3:3, 4:4.2, 5:'Five'}\n",
        "rb = TreeMap(d)\n",
        "rb"
      ]
    },
    {
      "attachments": {},
      "cell_type": "markdown",
      "metadata": {},
      "source": [
        "### Supplementary Methods"
      ]
    },
    {
      "attachments": {},
      "cell_type": "markdown",
      "metadata": {},
      "source": [
        "1. size() -> Returns the number of elements\n",
        "2. contains_key(key) -> Returns True if the key is present else returns False\n",
        "3. contains_value(value) -> Returns True if the value is present else returns False \n",
        "4. first_key() -> Returns the first key\n",
        "5. first_entry() -> Returns the first key-value pair as a dictionary\n",
        "6. poll_first_entry() -> Returns the first key-value pair as a dictionary and deletes it\n",
        "7. last_key() -> Returns the last key\n",
        "8. last_entry() -> Returns the last key-value pair as a dictionary\n",
        "9. poll_last_entry() -> Returns the last key-value pair as a dictionary and deletes it\n",
        "10. visaulize_tree() -> Displays a plot with the structure of the internal red-black tree\n"
      ]
    },
    {
      "cell_type": "code",
      "execution_count": 683,
      "metadata": {},
      "outputs": [
        {
          "data": {
            "text/plain": [
              "5"
            ]
          },
          "execution_count": 683,
          "metadata": {},
          "output_type": "execute_result"
        }
      ],
      "source": [
        "rb.size()"
      ]
    },
    {
      "cell_type": "code",
      "execution_count": 684,
      "metadata": {},
      "outputs": [
        {
          "name": "stdout",
          "output_type": "stream",
          "text": [
            "False\n",
            "True\n"
          ]
        }
      ],
      "source": [
        "print(rb.contains_key(9))\n",
        "print(rb.contains_key(1))"
      ]
    },
    {
      "cell_type": "code",
      "execution_count": 685,
      "metadata": {},
      "outputs": [
        {
          "name": "stdout",
          "output_type": "stream",
          "text": [
            "True\n",
            "False\n"
          ]
        }
      ],
      "source": [
        "print(rb.contains_value('Five'))\n",
        "print(rb.contains_value(10))"
      ]
    },
    {
      "cell_type": "code",
      "execution_count": 686,
      "metadata": {},
      "outputs": [
        {
          "data": {
            "text/plain": [
              "1"
            ]
          },
          "execution_count": 686,
          "metadata": {},
          "output_type": "execute_result"
        }
      ],
      "source": [
        "rb.first_key()"
      ]
    },
    {
      "cell_type": "code",
      "execution_count": 687,
      "metadata": {},
      "outputs": [
        {
          "data": {
            "text/plain": [
              "{1: 'One'}"
            ]
          },
          "execution_count": 687,
          "metadata": {},
          "output_type": "execute_result"
        }
      ],
      "source": [
        "rb.first_entry()"
      ]
    },
    {
      "cell_type": "code",
      "execution_count": 688,
      "metadata": {},
      "outputs": [
        {
          "data": {
            "text/plain": [
              "{2: 2, 3: 3, 4: 4.2, 5: Five}"
            ]
          },
          "execution_count": 688,
          "metadata": {},
          "output_type": "execute_result"
        }
      ],
      "source": [
        "rb.poll_first_entry()\n",
        "rb"
      ]
    },
    {
      "cell_type": "code",
      "execution_count": 689,
      "metadata": {},
      "outputs": [
        {
          "data": {
            "text/plain": [
              "5"
            ]
          },
          "execution_count": 689,
          "metadata": {},
          "output_type": "execute_result"
        }
      ],
      "source": [
        "rb.last_key()"
      ]
    },
    {
      "cell_type": "code",
      "execution_count": 690,
      "metadata": {},
      "outputs": [
        {
          "data": {
            "text/plain": [
              "{5: 'Five'}"
            ]
          },
          "execution_count": 690,
          "metadata": {},
          "output_type": "execute_result"
        }
      ],
      "source": [
        "rb.last_entry()"
      ]
    },
    {
      "cell_type": "code",
      "execution_count": 691,
      "metadata": {},
      "outputs": [
        {
          "data": {
            "text/plain": [
              "{2: 2, 3: 3, 4: 4.2}"
            ]
          },
          "execution_count": 691,
          "metadata": {},
          "output_type": "execute_result"
        }
      ],
      "source": [
        "rb.poll_last_entry()\n",
        "rb"
      ]
    },
    {
      "cell_type": "code",
      "execution_count": 692,
      "metadata": {},
      "outputs": [],
      "source": [
        "# Inserting values to help visualizing the tree\n",
        "for i in range(5, 10):\n",
        "    rb.put(i, i)\n",
        "for i in range(15, 10, -1):\n",
        "    rb.put(i,i)"
      ]
    },
    {
      "cell_type": "code",
      "execution_count": 693,
      "metadata": {},
      "outputs": [
        {
          "data": {
            "text/plain": [
              "{2: 2, 3: 3, 4: 4.2, 5: 5, 6: 6, 7: 7, 8: 8, 9: 9, 11: 11, 12: 12, 13: 13, 14: 14, 15: 15}"
            ]
          },
          "execution_count": 693,
          "metadata": {},
          "output_type": "execute_result"
        }
      ],
      "source": [
        "rb"
      ]
    },
    {
      "cell_type": "code",
      "execution_count": 694,
      "metadata": {},
      "outputs": [
        {
          "data": {
            "image/png": "[encoded data removed]",
            "text/plain": [
              "<Figure size 640x480 with 1 Axes>"
            ]
          },
          "metadata": {},
          "output_type": "display_data"
        }
      ],
      "source": [
        "rb.visaulize_tree()"
      ]
    }
  ],
  "metadata": {
    "colab": {
      "provenance": []
    },
    "kernelspec": {
      "display_name": "Python 3.8.1 64-bit",
      "language": "python",
      "name": "python3"
    },
    "language_info": {
      "codemirror_mode": {
        "name": "ipython",
        "version": 3
      },
      "file_extension": ".py",
      "mimetype": "text/x-python",
      "name": "python",
      "nbconvert_exporter": "python",
      "pygments_lexer": "ipython3",
      "version": "3.8.1"
    },
    "orig_nbformat": 4,
    "vscode": {
      "interpreter": {
        "hash": "4028a5515a1d930fbba3ed84a88654d6ba307da7eda608d7a6db2b3bc0ee0a8f"
      }
    }
  },
  "nbformat": 4,
  "nbformat_minor": 0
}
